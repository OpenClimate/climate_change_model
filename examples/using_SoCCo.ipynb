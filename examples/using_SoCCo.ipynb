{
 "cells": [
  {
   "cell_type": "markdown",
   "metadata": {},
   "source": [
    "Loading required libraries"
   ]
  },
  {
   "cell_type": "code",
   "execution_count": 1,
   "metadata": {
    "collapsed": false
   },
   "outputs": [],
   "source": [
    "import numpy as np\n",
    "import pandas as pd\n",
    "import matplotlib.pyplot as plt\n",
    "import SoCCo as sc"
   ]
  },
  {
   "cell_type": "markdown",
   "metadata": {},
   "source": [
    "Setting initial conditions"
   ]
  },
  {
   "cell_type": "code",
   "execution_count": 2,
   "metadata": {
    "collapsed": true
   },
   "outputs": [],
   "source": [
    "co2_ts=np.linspace(290, 300, 4)\n",
    "popTotal=7130010000 # Wolfram: QuantityMagnitude[CountryData[\"World\", \"Population\"]]\n",
    "popN=sc.popIntoNgroups(popTotal,nGroups=10)\n",
    "pcE_ts=sc.randomNormalF(5.049, 0.5, 10)\n",
    "pcE_ts=np.atleast_2d(pcE_ts).transpose()\n",
    "tData_ts=np.array([0,0.1,0.2,0.1]) # temperature\n",
    "eff=sc.efficacyF(10)\n",
    "pbc=sc.perceivedBehavioralControlF(10)\n",
    "percepWindowSize=3\n",
    "riskSens=1.0"
   ]
  },
  {
   "cell_type": "code",
   "execution_count": 3,
   "metadata": {
    "collapsed": true
   },
   "outputs": [],
   "source": [
    "pcE_ts,tData_ts, co2_ts=sc.iterateNsteps(pcE_ts,tData_ts, co2_ts, 5, eff, pbc,popN,percepWindowSize,riskSens)"
   ]
  },
  {
   "cell_type": "code",
   "execution_count": 4,
   "metadata": {
    "collapsed": false
   },
   "outputs": [
    {
     "data": {
      "text/plain": [
       "array([[ 5.47901475,  5.27970901,  5.18831243,  5.16573536,  5.18665424,\n",
       "         5.23776395],\n",
       "       [ 5.28156487,  5.20665313,  5.22384196,  5.28987954,  5.37941262,\n",
       "         5.48132019],\n",
       "       [ 4.53098968,  4.87583236,  5.0836753 ,  5.24386777,  5.38733169,\n",
       "         5.52343625],\n",
       "       [ 4.40724885,  4.42564082,  4.44374383,  4.463057  ,  4.48426474,\n",
       "         4.50802769],\n",
       "       [ 4.54460762,  4.7054713 ,  4.82601752,  4.93196001,  5.03301363,\n",
       "         5.13364505],\n",
       "       [ 5.42192589,  5.21091905,  5.16958209,  5.20026138,  5.26580204,\n",
       "         5.35127236],\n",
       "       [ 5.10168219,  5.33246296,  5.36772102,  5.44543775,  5.55296214,\n",
       "         5.67027107],\n",
       "       [ 5.6346966 ,  5.28054593,  5.38443676,  5.46212603,  5.57438206,\n",
       "         5.69290442],\n",
       "       [ 4.60491933,  4.80341863,  4.92578119,  5.02302682,  5.11242295,\n",
       "         5.20232639],\n",
       "       [ 5.23029835,  5.16434597,  5.13016742,  5.13240545,  5.16303744,\n",
       "         5.21661561]])"
      ]
     },
     "execution_count": 4,
     "metadata": {},
     "output_type": "execute_result"
    }
   ],
   "source": [
    "pcE_ts"
   ]
  },
  {
   "cell_type": "code",
   "execution_count": 5,
   "metadata": {
    "collapsed": false
   },
   "outputs": [
    {
     "data": {
      "text/plain": [
       "array([ 0.        ,  0.1       ,  0.2       ,  0.1       ,  0.19980657,\n",
       "        0.36805883,  0.62308532,  0.97970028,  1.4498099 ])"
      ]
     },
     "execution_count": 5,
     "metadata": {},
     "output_type": "execute_result"
    }
   ],
   "source": [
    "tData_ts"
   ]
  },
  {
   "cell_type": "code",
   "execution_count": 6,
   "metadata": {
    "collapsed": false
   },
   "outputs": [
    {
     "data": {
      "text/plain": [
       "array([ 290.        ,  293.33333333,  296.66666667,  300.        ,\n",
       "        322.97013364,  346.14960927,  369.6097776 ,  393.42694637,\n",
       "        417.64532137])"
      ]
     },
     "execution_count": 6,
     "metadata": {},
     "output_type": "execute_result"
    }
   ],
   "source": [
    "co2_ts"
   ]
  },
  {
   "cell_type": "code",
   "execution_count": null,
   "metadata": {
    "collapsed": true
   },
   "outputs": [],
   "source": []
  }
 ],
 "metadata": {
  "kernelspec": {
   "display_name": "Python 2",
   "language": "python",
   "name": "python2"
  },
  "language_info": {
   "codemirror_mode": {
    "name": "ipython",
    "version": 2
   },
   "file_extension": ".py",
   "mimetype": "text/x-python",
   "name": "python",
   "nbconvert_exporter": "python",
   "pygments_lexer": "ipython2",
   "version": "2.7.9"
  }
 },
 "nbformat": 4,
 "nbformat_minor": 0
}
